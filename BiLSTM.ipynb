{
  "nbformat": 4,
  "nbformat_minor": 0,
  "metadata": {
    "colab": {
      "name": "BiLSTM.ipynb",
      "provenance": []
    },
    "kernelspec": {
      "name": "python3",
      "display_name": "Python 3"
    },
    "language_info": {
      "name": "python"
    },
    "accelerator": "GPU"
  },
  "cells": [
    {
      "cell_type": "markdown",
      "source": [
        "Data Preprocessing"
      ],
      "metadata": {
        "id": "EDeGK5l9ut8O"
      }
    },
    {
      "cell_type": "code",
      "metadata": {
        "id": "fU1iBKKDreZu"
      },
      "source": [
        "import random\n",
        "import copy\n",
        "import time\n",
        "import pandas as pd\n",
        "import numpy as np\n",
        "import gc\n",
        "import re\n",
        "import torch as t\n",
        "\n",
        "#import spacy\n",
        "from tqdm import tqdm_notebook, tnrange\n",
        "from tqdm.auto import tqdm\n",
        "\n",
        "tqdm.pandas(desc='Progress')\n",
        "from collections import Counter\n",
        "\n",
        "from nltk.tokenize import word_tokenize\n",
        "from nltk import pos_tag\n",
        "from nltk.corpus import stopwords\n",
        "from nltk.stem import WordNetLemmatizer\n",
        "from sklearn.preprocessing import LabelEncoder\n",
        "from collections import defaultdict\n",
        "from nltk.corpus import wordnet as wn\n",
        "from sklearn.feature_extraction.text import TfidfVectorizer\n",
        "from sklearn.metrics import accuracy_score\n",
        "\n",
        "import torch.nn as nn\n",
        "import torch.optim as optim\n",
        "import torch.nn.functional as F\n",
        "from torch.utils.data import Dataset, DataLoader\n",
        "from torch.nn.utils.rnn import pack_padded_sequence, pad_packed_sequence\n",
        "from torch.autograd import Variable\n",
        "import os \n",
        "\n",
        "# cross validation and metrics\n",
        "from sklearn.model_selection import StratifiedKFold\n",
        "from sklearn.metrics import f1_score\n",
        "\n",
        "from sklearn.preprocessing import StandardScaler\n",
        "from multiprocessing import  Pool\n",
        "from functools import partial\n",
        "from sklearn.decomposition import PCA\n",
        "\n",
        "import matplotlib.pyplot as plt"
      ],
      "execution_count": 1,
      "outputs": []
    },
    {
      "cell_type": "code",
      "metadata": {
        "id": "9Up9J3uDruYi",
        "colab": {
          "base_uri": "https://localhost:8080/"
        },
        "outputId": "027afee9-8c93-4bf8-a615-4475595fbd6b"
      },
      "source": [
        "!pip install -U torchtext==0.8.0"
      ],
      "execution_count": 2,
      "outputs": [
        {
          "output_type": "stream",
          "name": "stdout",
          "text": [
            "Requirement already satisfied: torchtext==0.8.0 in /usr/local/lib/python3.7/dist-packages (0.8.0)\n",
            "Requirement already satisfied: requests in /usr/local/lib/python3.7/dist-packages (from torchtext==0.8.0) (2.23.0)\n",
            "Requirement already satisfied: tqdm in /usr/local/lib/python3.7/dist-packages (from torchtext==0.8.0) (4.62.3)\n",
            "Requirement already satisfied: torch in /usr/local/lib/python3.7/dist-packages (from torchtext==0.8.0) (1.10.0+cu111)\n",
            "Requirement already satisfied: numpy in /usr/local/lib/python3.7/dist-packages (from torchtext==0.8.0) (1.19.5)\n",
            "Requirement already satisfied: urllib3!=1.25.0,!=1.25.1,<1.26,>=1.21.1 in /usr/local/lib/python3.7/dist-packages (from requests->torchtext==0.8.0) (1.24.3)\n",
            "Requirement already satisfied: chardet<4,>=3.0.2 in /usr/local/lib/python3.7/dist-packages (from requests->torchtext==0.8.0) (3.0.4)\n",
            "Requirement already satisfied: idna<3,>=2.5 in /usr/local/lib/python3.7/dist-packages (from requests->torchtext==0.8.0) (2.10)\n",
            "Requirement already satisfied: certifi>=2017.4.17 in /usr/local/lib/python3.7/dist-packages (from requests->torchtext==0.8.0) (2021.10.8)\n",
            "Requirement already satisfied: typing-extensions in /usr/local/lib/python3.7/dist-packages (from torch->torchtext==0.8.0) (3.10.0.2)\n"
          ]
        }
      ]
    },
    {
      "cell_type": "code",
      "metadata": {
        "colab": {
          "base_uri": "https://localhost:8080/"
        },
        "id": "NYjNTJUkrzb8",
        "outputId": "a1d103c4-2a27-45a0-86a4-cf0f53048fb2"
      },
      "source": [
        "!pip install transformers"
      ],
      "execution_count": 3,
      "outputs": [
        {
          "output_type": "stream",
          "name": "stdout",
          "text": [
            "Requirement already satisfied: transformers in /usr/local/lib/python3.7/dist-packages (4.12.5)\n",
            "Requirement already satisfied: pyyaml>=5.1 in /usr/local/lib/python3.7/dist-packages (from transformers) (6.0)\n",
            "Requirement already satisfied: importlib-metadata in /usr/local/lib/python3.7/dist-packages (from transformers) (4.8.2)\n",
            "Requirement already satisfied: packaging>=20.0 in /usr/local/lib/python3.7/dist-packages (from transformers) (21.3)\n",
            "Requirement already satisfied: sacremoses in /usr/local/lib/python3.7/dist-packages (from transformers) (0.0.46)\n",
            "Requirement already satisfied: huggingface-hub<1.0,>=0.1.0 in /usr/local/lib/python3.7/dist-packages (from transformers) (0.2.1)\n",
            "Requirement already satisfied: tqdm>=4.27 in /usr/local/lib/python3.7/dist-packages (from transformers) (4.62.3)\n",
            "Requirement already satisfied: filelock in /usr/local/lib/python3.7/dist-packages (from transformers) (3.4.0)\n",
            "Requirement already satisfied: requests in /usr/local/lib/python3.7/dist-packages (from transformers) (2.23.0)\n",
            "Requirement already satisfied: regex!=2019.12.17 in /usr/local/lib/python3.7/dist-packages (from transformers) (2019.12.20)\n",
            "Requirement already satisfied: tokenizers<0.11,>=0.10.1 in /usr/local/lib/python3.7/dist-packages (from transformers) (0.10.3)\n",
            "Requirement already satisfied: numpy>=1.17 in /usr/local/lib/python3.7/dist-packages (from transformers) (1.19.5)\n",
            "Requirement already satisfied: typing-extensions>=3.7.4.3 in /usr/local/lib/python3.7/dist-packages (from huggingface-hub<1.0,>=0.1.0->transformers) (3.10.0.2)\n",
            "Requirement already satisfied: pyparsing!=3.0.5,>=2.0.2 in /usr/local/lib/python3.7/dist-packages (from packaging>=20.0->transformers) (3.0.6)\n",
            "Requirement already satisfied: zipp>=0.5 in /usr/local/lib/python3.7/dist-packages (from importlib-metadata->transformers) (3.6.0)\n",
            "Requirement already satisfied: certifi>=2017.4.17 in /usr/local/lib/python3.7/dist-packages (from requests->transformers) (2021.10.8)\n",
            "Requirement already satisfied: chardet<4,>=3.0.2 in /usr/local/lib/python3.7/dist-packages (from requests->transformers) (3.0.4)\n",
            "Requirement already satisfied: idna<3,>=2.5 in /usr/local/lib/python3.7/dist-packages (from requests->transformers) (2.10)\n",
            "Requirement already satisfied: urllib3!=1.25.0,!=1.25.1,<1.26,>=1.21.1 in /usr/local/lib/python3.7/dist-packages (from requests->transformers) (1.24.3)\n",
            "Requirement already satisfied: click in /usr/local/lib/python3.7/dist-packages (from sacremoses->transformers) (7.1.2)\n",
            "Requirement already satisfied: joblib in /usr/local/lib/python3.7/dist-packages (from sacremoses->transformers) (1.1.0)\n",
            "Requirement already satisfied: six in /usr/local/lib/python3.7/dist-packages (from sacremoses->transformers) (1.15.0)\n"
          ]
        }
      ]
    },
    {
      "cell_type": "code",
      "metadata": {
        "colab": {
          "base_uri": "https://localhost:8080/"
        },
        "id": "E8kgoaAer2RK",
        "outputId": "75b98d0d-3488-416d-95e3-7607fac61617"
      },
      "source": [
        "import nltk\n",
        "nltk.download('punkt')\n",
        "nltk.download('wordnet')\n",
        "nltk.download('averaged_perceptron_tagger')\n",
        "nltk.download('stopwords')"
      ],
      "execution_count": 4,
      "outputs": [
        {
          "output_type": "stream",
          "name": "stdout",
          "text": [
            "[nltk_data] Downloading package punkt to /root/nltk_data...\n",
            "[nltk_data]   Package punkt is already up-to-date!\n",
            "[nltk_data] Downloading package wordnet to /root/nltk_data...\n",
            "[nltk_data]   Package wordnet is already up-to-date!\n",
            "[nltk_data] Downloading package averaged_perceptron_tagger to\n",
            "[nltk_data]     /root/nltk_data...\n",
            "[nltk_data]   Package averaged_perceptron_tagger is already up-to-\n",
            "[nltk_data]       date!\n",
            "[nltk_data] Downloading package stopwords to /root/nltk_data...\n",
            "[nltk_data]   Package stopwords is already up-to-date!\n"
          ]
        },
        {
          "output_type": "execute_result",
          "data": {
            "text/plain": [
              "True"
            ]
          },
          "metadata": {},
          "execution_count": 4
        }
      ]
    },
    {
      "cell_type": "code",
      "metadata": {
        "id": "lzAO51Oir5dw"
      },
      "source": [
        "np.random.seed(500)"
      ],
      "execution_count": 5,
      "outputs": []
    },
    {
      "cell_type": "code",
      "metadata": {
        "colab": {
          "base_uri": "https://localhost:8080/"
        },
        "id": "0GyP0UTKXq-j",
        "outputId": "ad9211c4-008e-43e8-a82c-7d360f056dd7"
      },
      "source": [
        "from google.colab import drive\n",
        "drive.mount('/content/drive')"
      ],
      "execution_count": 6,
      "outputs": [
        {
          "output_type": "stream",
          "name": "stdout",
          "text": [
            "Drive already mounted at /content/drive; to attempt to forcibly remount, call drive.mount(\"/content/drive\", force_remount=True).\n"
          ]
        }
      ]
    },
    {
      "cell_type": "code",
      "metadata": {
        "id": "EbXOu_tBr75k"
      },
      "source": [
        "df1 = pd.read_csv(\"/content/drive/MyDrive/CIS 519 Final Project/both_train.csv\")\n",
        "df2 = pd.read_csv(\"/content/drive/MyDrive/CIS 519 Final Project/both_test.csv\")\n",
        "df3 = pd.read_csv(\"/content/drive/MyDrive/CIS 519 Final Project/both_val.csv\")\n",
        "df4 = pd.read_csv(\"/content/drive/MyDrive/CIS 519 Final Project/schizoaffective.csv\")\n",
        "df5 = pd.read_csv(\"/content/drive/MyDrive/CIS 519 Final Project/AlAnon.csv\")\n",
        "df6 = pd.read_csv(\"/content/drive/MyDrive/CIS 519 Final Project/BorderlinePDisorder_10.csv\")\n",
        "df7 = pd.read_csv(\"/content/drive/MyDrive/CIS 519 Final Project/alcoholicsanonymous.csv\")\n",
        "df8 = pd.read_csv(\"/content/drive/MyDrive/CIS 519 Final Project/OCD.csv\")"
      ],
      "execution_count": 7,
      "outputs": []
    },
    {
      "cell_type": "code",
      "metadata": {
        "id": "iAsDP9Zr1xOs"
      },
      "source": [
        "df4.drop(columns=[\"score\",\"url\",\"Unnamed: 0\",\"comms_num\",\"created\",\"ups\",\"downs\"], inplace=True)\n",
        "df5.drop(columns=[\"score\",\"url\",\"Unnamed: 0\",\"comms_num\",\"created\",\"ups\",\"downs\"], inplace=True)\n",
        "df6.drop(columns=[\"score\",\"url\",\"Unnamed: 0\",\"comms_num\",\"created\",\"ups\",\"downs\"], inplace=True)\n",
        "df7.drop(columns=[\"score\",\"url\",\"Unnamed: 0\",\"comms_num\",\"created\",\"ups\",\"downs\"], inplace=True)\n",
        "df8.drop(columns=[\"score\",\"url\",\"Unnamed: 0\",\"comms_num\",\"created\",\"ups\",\"downs\"], inplace=True)"
      ],
      "execution_count": 8,
      "outputs": []
    },
    {
      "cell_type": "code",
      "metadata": {
        "id": "Dzjks5jw12z5"
      },
      "source": [
        "df4 = df4[df4[\"body\"] != \"[deleted]\"]\n",
        "df5 = df5[df5[\"body\"] != \"[deleted]\"]\n",
        "df6 = df6[df6[\"body\"] != \"[deleted]\"]\n",
        "df7 = df7[df7[\"body\"] != \"[deleted]\"]\n",
        "df8 = df8[df8[\"body\"] != \"[deleted]\"]"
      ],
      "execution_count": 9,
      "outputs": []
    },
    {
      "cell_type": "code",
      "metadata": {
        "id": "2d9KpMq1146p",
        "colab": {
          "base_uri": "https://localhost:8080/"
        },
        "outputId": "87810d77-17e9-41c8-fc4d-051fd6a81214"
      },
      "source": [
        "df4[\"class_id\"] = [6]*len(df4)\n",
        "df5[\"class_id\"] = [7]*len(df5)\n",
        "df6[\"class_id\"] = [8]*len(df6)\n",
        "df7[\"class_id\"] = [7]*len(df7)\n",
        "df8[\"class_id\"] = [9]*len(df8)"
      ],
      "execution_count": 10,
      "outputs": [
        {
          "output_type": "stream",
          "name": "stderr",
          "text": [
            "/usr/local/lib/python3.7/dist-packages/ipykernel_launcher.py:1: SettingWithCopyWarning: \n",
            "A value is trying to be set on a copy of a slice from a DataFrame.\n",
            "Try using .loc[row_indexer,col_indexer] = value instead\n",
            "\n",
            "See the caveats in the documentation: https://pandas.pydata.org/pandas-docs/stable/user_guide/indexing.html#returning-a-view-versus-a-copy\n",
            "  \"\"\"Entry point for launching an IPython kernel.\n",
            "/usr/local/lib/python3.7/dist-packages/ipykernel_launcher.py:2: SettingWithCopyWarning: \n",
            "A value is trying to be set on a copy of a slice from a DataFrame.\n",
            "Try using .loc[row_indexer,col_indexer] = value instead\n",
            "\n",
            "See the caveats in the documentation: https://pandas.pydata.org/pandas-docs/stable/user_guide/indexing.html#returning-a-view-versus-a-copy\n",
            "  \n",
            "/usr/local/lib/python3.7/dist-packages/ipykernel_launcher.py:3: SettingWithCopyWarning: \n",
            "A value is trying to be set on a copy of a slice from a DataFrame.\n",
            "Try using .loc[row_indexer,col_indexer] = value instead\n",
            "\n",
            "See the caveats in the documentation: https://pandas.pydata.org/pandas-docs/stable/user_guide/indexing.html#returning-a-view-versus-a-copy\n",
            "  This is separate from the ipykernel package so we can avoid doing imports until\n",
            "/usr/local/lib/python3.7/dist-packages/ipykernel_launcher.py:4: SettingWithCopyWarning: \n",
            "A value is trying to be set on a copy of a slice from a DataFrame.\n",
            "Try using .loc[row_indexer,col_indexer] = value instead\n",
            "\n",
            "See the caveats in the documentation: https://pandas.pydata.org/pandas-docs/stable/user_guide/indexing.html#returning-a-view-versus-a-copy\n",
            "  after removing the cwd from sys.path.\n"
          ]
        }
      ]
    },
    {
      "cell_type": "code",
      "metadata": {
        "id": "v9xnfTYW17hu",
        "colab": {
          "base_uri": "https://localhost:8080/"
        },
        "outputId": "316726bf-8b8a-4f6e-ff44-1c4f8f165143"
      },
      "source": [
        "df4.dropna(inplace=True)\n",
        "df5.dropna(inplace=True)\n",
        "df6.dropna(inplace=True)\n",
        "df7.dropna(inplace=True)\n",
        "df8.dropna(inplace=True)"
      ],
      "execution_count": 11,
      "outputs": [
        {
          "output_type": "stream",
          "name": "stderr",
          "text": [
            "/usr/local/lib/python3.7/dist-packages/ipykernel_launcher.py:1: SettingWithCopyWarning: \n",
            "A value is trying to be set on a copy of a slice from a DataFrame\n",
            "\n",
            "See the caveats in the documentation: https://pandas.pydata.org/pandas-docs/stable/user_guide/indexing.html#returning-a-view-versus-a-copy\n",
            "  \"\"\"Entry point for launching an IPython kernel.\n",
            "/usr/local/lib/python3.7/dist-packages/ipykernel_launcher.py:2: SettingWithCopyWarning: \n",
            "A value is trying to be set on a copy of a slice from a DataFrame\n",
            "\n",
            "See the caveats in the documentation: https://pandas.pydata.org/pandas-docs/stable/user_guide/indexing.html#returning-a-view-versus-a-copy\n",
            "  \n",
            "/usr/local/lib/python3.7/dist-packages/ipykernel_launcher.py:3: SettingWithCopyWarning: \n",
            "A value is trying to be set on a copy of a slice from a DataFrame\n",
            "\n",
            "See the caveats in the documentation: https://pandas.pydata.org/pandas-docs/stable/user_guide/indexing.html#returning-a-view-versus-a-copy\n",
            "  This is separate from the ipykernel package so we can avoid doing imports until\n",
            "/usr/local/lib/python3.7/dist-packages/ipykernel_launcher.py:4: SettingWithCopyWarning: \n",
            "A value is trying to be set on a copy of a slice from a DataFrame\n",
            "\n",
            "See the caveats in the documentation: https://pandas.pydata.org/pandas-docs/stable/user_guide/indexing.html#returning-a-view-versus-a-copy\n",
            "  after removing the cwd from sys.path.\n"
          ]
        }
      ]
    },
    {
      "cell_type": "code",
      "metadata": {
        "id": "u4F65OYP1_Zt",
        "colab": {
          "base_uri": "https://localhost:8080/"
        },
        "outputId": "b1fcd0c3-5f93-4b32-fd0f-3dd45e400cef"
      },
      "source": [
        "df4.rename(columns={\"body\":\"post\",\"id\":\"ID\"}, inplace=True)\n",
        "df5.rename(columns={\"body\":\"post\",\"id\":\"ID\"}, inplace=True)\n",
        "df6.rename(columns={\"body\":\"post\",\"id\":\"ID\"}, inplace=True)\n",
        "df7.rename(columns={\"body\":\"post\",\"id\":\"ID\"}, inplace=True)\n",
        "df8.rename(columns={\"body\":\"post\",\"id\":\"ID\"}, inplace=True)"
      ],
      "execution_count": 12,
      "outputs": [
        {
          "output_type": "stream",
          "name": "stderr",
          "text": [
            "/usr/local/lib/python3.7/dist-packages/pandas/core/frame.py:4308: SettingWithCopyWarning: \n",
            "A value is trying to be set on a copy of a slice from a DataFrame\n",
            "\n",
            "See the caveats in the documentation: https://pandas.pydata.org/pandas-docs/stable/user_guide/indexing.html#returning-a-view-versus-a-copy\n",
            "  errors=errors,\n"
          ]
        }
      ]
    },
    {
      "cell_type": "code",
      "metadata": {
        "id": "CFDT4cnn2A6c"
      },
      "source": [
        "frames = [df1, df2, df3, df4, df5, df6, df7, df8]\n",
        "corpus = pd.concat(frames, ignore_index=True)"
      ],
      "execution_count": 13,
      "outputs": []
    },
    {
      "cell_type": "code",
      "metadata": {
        "id": "anoobl9p2DsJ",
        "colab": {
          "base_uri": "https://localhost:8080/",
          "height": 528
        },
        "outputId": "cc88ac8d-167b-47dc-e80c-60a77e79fc2e"
      },
      "source": [
        "corpus"
      ],
      "execution_count": 14,
      "outputs": [
        {
          "output_type": "execute_result",
          "data": {
            "text/html": [
              "<div>\n",
              "<style scoped>\n",
              "    .dataframe tbody tr th:only-of-type {\n",
              "        vertical-align: middle;\n",
              "    }\n",
              "\n",
              "    .dataframe tbody tr th {\n",
              "        vertical-align: top;\n",
              "    }\n",
              "\n",
              "    .dataframe thead th {\n",
              "        text-align: right;\n",
              "    }\n",
              "</style>\n",
              "<table border=\"1\" class=\"dataframe\">\n",
              "  <thead>\n",
              "    <tr style=\"text-align: right;\">\n",
              "      <th></th>\n",
              "      <th>ID</th>\n",
              "      <th>title</th>\n",
              "      <th>post</th>\n",
              "      <th>class_name</th>\n",
              "      <th>class_id</th>\n",
              "    </tr>\n",
              "  </thead>\n",
              "  <tbody>\n",
              "    <tr>\n",
              "      <th>0</th>\n",
              "      <td>691324c4-5c30-44e0-b9e4-45b4f0715e21</td>\n",
              "      <td>a question about the third conditional.</td>\n",
              "      <td>i was making questions for my students and i r...</td>\n",
              "      <td>none</td>\n",
              "      <td>5</td>\n",
              "    </tr>\n",
              "    <tr>\n",
              "      <th>1</th>\n",
              "      <td>d4295391-9ca5-4398-b7c8-687e4a984ef1</td>\n",
              "      <td>the epitome of my life</td>\n",
              "      <td>i've recently requested testing accommodations...</td>\n",
              "      <td>adhd</td>\n",
              "      <td>0</td>\n",
              "    </tr>\n",
              "    <tr>\n",
              "      <th>2</th>\n",
              "      <td>58937fa5-3c2c-426b-8255-5a140fbab675</td>\n",
              "      <td>what are your favourites offbeat destinations ...</td>\n",
              "      <td>**cambodia** * koh rong: amazing beaches and a...</td>\n",
              "      <td>none</td>\n",
              "      <td>5</td>\n",
              "    </tr>\n",
              "    <tr>\n",
              "      <th>3</th>\n",
              "      <td>7daf364c-3b33-4cbe-be37-a214edf9a73e</td>\n",
              "      <td>synesthesia survey (what colour is each month ...</td>\n",
              "      <td>synesthesia. what is synesthesia? according to...</td>\n",
              "      <td>none</td>\n",
              "      <td>5</td>\n",
              "    </tr>\n",
              "    <tr>\n",
              "      <th>4</th>\n",
              "      <td>22518271-4bb4-4caf-b683-7305da519288</td>\n",
              "      <td>science ama series: i’m phil baran, and i’m he...</td>\n",
              "      <td>i’m phil baran and i teach organic chemistry a...</td>\n",
              "      <td>none</td>\n",
              "      <td>5</td>\n",
              "    </tr>\n",
              "    <tr>\n",
              "      <th>...</th>\n",
              "      <td>...</td>\n",
              "      <td>...</td>\n",
              "      <td>...</td>\n",
              "      <td>...</td>\n",
              "      <td>...</td>\n",
              "    </tr>\n",
              "    <tr>\n",
              "      <th>23572</th>\n",
              "      <td>qoprjq</td>\n",
              "      <td>Can you have ocd without having depression???</td>\n",
              "      <td>I mean I do feel very sad and worthless becaus...</td>\n",
              "      <td>NaN</td>\n",
              "      <td>9</td>\n",
              "    </tr>\n",
              "    <tr>\n",
              "      <th>23573</th>\n",
              "      <td>qor9f9</td>\n",
              "      <td>Hi! I'm an OCD therapist, and I'm new to reddit.</td>\n",
              "      <td>Hi OCD Community! I am a clinical psychologist...</td>\n",
              "      <td>NaN</td>\n",
              "      <td>9</td>\n",
              "    </tr>\n",
              "    <tr>\n",
              "      <th>23574</th>\n",
              "      <td>qoslls</td>\n",
              "      <td>Vent: my mom who I still live with tested posi...</td>\n",
              "      <td>My mom tested positive for covid. Despite the ...</td>\n",
              "      <td>NaN</td>\n",
              "      <td>9</td>\n",
              "    </tr>\n",
              "    <tr>\n",
              "      <th>23575</th>\n",
              "      <td>qotd5d</td>\n",
              "      <td>Do “intrusive memories” count as intrusive tho...</td>\n",
              "      <td>Random anxiety provoking or triggering memorie...</td>\n",
              "      <td>NaN</td>\n",
              "      <td>9</td>\n",
              "    </tr>\n",
              "    <tr>\n",
              "      <th>23576</th>\n",
              "      <td>qotrfn</td>\n",
              "      <td>my partner is getting tired of being asked for...</td>\n",
              "      <td>I have many many OCD themes but a big one is m...</td>\n",
              "      <td>NaN</td>\n",
              "      <td>9</td>\n",
              "    </tr>\n",
              "  </tbody>\n",
              "</table>\n",
              "<p>23577 rows × 5 columns</p>\n",
              "</div>"
            ],
            "text/plain": [
              "                                         ID  ... class_id\n",
              "0      691324c4-5c30-44e0-b9e4-45b4f0715e21  ...        5\n",
              "1      d4295391-9ca5-4398-b7c8-687e4a984ef1  ...        0\n",
              "2      58937fa5-3c2c-426b-8255-5a140fbab675  ...        5\n",
              "3      7daf364c-3b33-4cbe-be37-a214edf9a73e  ...        5\n",
              "4      22518271-4bb4-4caf-b683-7305da519288  ...        5\n",
              "...                                     ...  ...      ...\n",
              "23572                                qoprjq  ...        9\n",
              "23573                                qor9f9  ...        9\n",
              "23574                                qoslls  ...        9\n",
              "23575                                qotd5d  ...        9\n",
              "23576                                qotrfn  ...        9\n",
              "\n",
              "[23577 rows x 5 columns]"
            ]
          },
          "metadata": {},
          "execution_count": 14
        }
      ]
    },
    {
      "cell_type": "code",
      "metadata": {
        "id": "vcpX0Hn43DTH"
      },
      "source": [
        "#df1.value_counts()"
      ],
      "execution_count": 15,
      "outputs": []
    },
    {
      "cell_type": "code",
      "metadata": {
        "id": "d981CS7I6GMs"
      },
      "source": [
        "corpus[\"text\"] = corpus.title + \" \" + corpus.post"
      ],
      "execution_count": 16,
      "outputs": []
    },
    {
      "cell_type": "code",
      "metadata": {
        "id": "admD7qZs7Gur",
        "colab": {
          "base_uri": "https://localhost:8080/",
          "height": 597
        },
        "outputId": "921c5cf6-936b-4447-8026-6c1a88d80c50"
      },
      "source": [
        "corpus"
      ],
      "execution_count": 17,
      "outputs": [
        {
          "output_type": "execute_result",
          "data": {
            "text/html": [
              "<div>\n",
              "<style scoped>\n",
              "    .dataframe tbody tr th:only-of-type {\n",
              "        vertical-align: middle;\n",
              "    }\n",
              "\n",
              "    .dataframe tbody tr th {\n",
              "        vertical-align: top;\n",
              "    }\n",
              "\n",
              "    .dataframe thead th {\n",
              "        text-align: right;\n",
              "    }\n",
              "</style>\n",
              "<table border=\"1\" class=\"dataframe\">\n",
              "  <thead>\n",
              "    <tr style=\"text-align: right;\">\n",
              "      <th></th>\n",
              "      <th>ID</th>\n",
              "      <th>title</th>\n",
              "      <th>post</th>\n",
              "      <th>class_name</th>\n",
              "      <th>class_id</th>\n",
              "      <th>text</th>\n",
              "    </tr>\n",
              "  </thead>\n",
              "  <tbody>\n",
              "    <tr>\n",
              "      <th>0</th>\n",
              "      <td>691324c4-5c30-44e0-b9e4-45b4f0715e21</td>\n",
              "      <td>a question about the third conditional.</td>\n",
              "      <td>i was making questions for my students and i r...</td>\n",
              "      <td>none</td>\n",
              "      <td>5</td>\n",
              "      <td>a question about the third conditional. i was ...</td>\n",
              "    </tr>\n",
              "    <tr>\n",
              "      <th>1</th>\n",
              "      <td>d4295391-9ca5-4398-b7c8-687e4a984ef1</td>\n",
              "      <td>the epitome of my life</td>\n",
              "      <td>i've recently requested testing accommodations...</td>\n",
              "      <td>adhd</td>\n",
              "      <td>0</td>\n",
              "      <td>the epitome of my life i've recently requested...</td>\n",
              "    </tr>\n",
              "    <tr>\n",
              "      <th>2</th>\n",
              "      <td>58937fa5-3c2c-426b-8255-5a140fbab675</td>\n",
              "      <td>what are your favourites offbeat destinations ...</td>\n",
              "      <td>**cambodia** * koh rong: amazing beaches and a...</td>\n",
              "      <td>none</td>\n",
              "      <td>5</td>\n",
              "      <td>what are your favourites offbeat destinations ...</td>\n",
              "    </tr>\n",
              "    <tr>\n",
              "      <th>3</th>\n",
              "      <td>7daf364c-3b33-4cbe-be37-a214edf9a73e</td>\n",
              "      <td>synesthesia survey (what colour is each month ...</td>\n",
              "      <td>synesthesia. what is synesthesia? according to...</td>\n",
              "      <td>none</td>\n",
              "      <td>5</td>\n",
              "      <td>synesthesia survey (what colour is each month ...</td>\n",
              "    </tr>\n",
              "    <tr>\n",
              "      <th>4</th>\n",
              "      <td>22518271-4bb4-4caf-b683-7305da519288</td>\n",
              "      <td>science ama series: i’m phil baran, and i’m he...</td>\n",
              "      <td>i’m phil baran and i teach organic chemistry a...</td>\n",
              "      <td>none</td>\n",
              "      <td>5</td>\n",
              "      <td>science ama series: i’m phil baran, and i’m he...</td>\n",
              "    </tr>\n",
              "    <tr>\n",
              "      <th>...</th>\n",
              "      <td>...</td>\n",
              "      <td>...</td>\n",
              "      <td>...</td>\n",
              "      <td>...</td>\n",
              "      <td>...</td>\n",
              "      <td>...</td>\n",
              "    </tr>\n",
              "    <tr>\n",
              "      <th>23572</th>\n",
              "      <td>qoprjq</td>\n",
              "      <td>Can you have ocd without having depression???</td>\n",
              "      <td>I mean I do feel very sad and worthless becaus...</td>\n",
              "      <td>NaN</td>\n",
              "      <td>9</td>\n",
              "      <td>Can you have ocd without having depression??? ...</td>\n",
              "    </tr>\n",
              "    <tr>\n",
              "      <th>23573</th>\n",
              "      <td>qor9f9</td>\n",
              "      <td>Hi! I'm an OCD therapist, and I'm new to reddit.</td>\n",
              "      <td>Hi OCD Community! I am a clinical psychologist...</td>\n",
              "      <td>NaN</td>\n",
              "      <td>9</td>\n",
              "      <td>Hi! I'm an OCD therapist, and I'm new to reddi...</td>\n",
              "    </tr>\n",
              "    <tr>\n",
              "      <th>23574</th>\n",
              "      <td>qoslls</td>\n",
              "      <td>Vent: my mom who I still live with tested posi...</td>\n",
              "      <td>My mom tested positive for covid. Despite the ...</td>\n",
              "      <td>NaN</td>\n",
              "      <td>9</td>\n",
              "      <td>Vent: my mom who I still live with tested posi...</td>\n",
              "    </tr>\n",
              "    <tr>\n",
              "      <th>23575</th>\n",
              "      <td>qotd5d</td>\n",
              "      <td>Do “intrusive memories” count as intrusive tho...</td>\n",
              "      <td>Random anxiety provoking or triggering memorie...</td>\n",
              "      <td>NaN</td>\n",
              "      <td>9</td>\n",
              "      <td>Do “intrusive memories” count as intrusive tho...</td>\n",
              "    </tr>\n",
              "    <tr>\n",
              "      <th>23576</th>\n",
              "      <td>qotrfn</td>\n",
              "      <td>my partner is getting tired of being asked for...</td>\n",
              "      <td>I have many many OCD themes but a big one is m...</td>\n",
              "      <td>NaN</td>\n",
              "      <td>9</td>\n",
              "      <td>my partner is getting tired of being asked for...</td>\n",
              "    </tr>\n",
              "  </tbody>\n",
              "</table>\n",
              "<p>23577 rows × 6 columns</p>\n",
              "</div>"
            ],
            "text/plain": [
              "                                         ID  ...                                               text\n",
              "0      691324c4-5c30-44e0-b9e4-45b4f0715e21  ...  a question about the third conditional. i was ...\n",
              "1      d4295391-9ca5-4398-b7c8-687e4a984ef1  ...  the epitome of my life i've recently requested...\n",
              "2      58937fa5-3c2c-426b-8255-5a140fbab675  ...  what are your favourites offbeat destinations ...\n",
              "3      7daf364c-3b33-4cbe-be37-a214edf9a73e  ...  synesthesia survey (what colour is each month ...\n",
              "4      22518271-4bb4-4caf-b683-7305da519288  ...  science ama series: i’m phil baran, and i’m he...\n",
              "...                                     ...  ...                                                ...\n",
              "23572                                qoprjq  ...  Can you have ocd without having depression??? ...\n",
              "23573                                qor9f9  ...  Hi! I'm an OCD therapist, and I'm new to reddi...\n",
              "23574                                qoslls  ...  Vent: my mom who I still live with tested posi...\n",
              "23575                                qotd5d  ...  Do “intrusive memories” count as intrusive tho...\n",
              "23576                                qotrfn  ...  my partner is getting tired of being asked for...\n",
              "\n",
              "[23577 rows x 6 columns]"
            ]
          },
          "metadata": {},
          "execution_count": 17
        }
      ]
    },
    {
      "cell_type": "code",
      "metadata": {
        "id": "Lyknh9GdbBuB"
      },
      "source": [
        "corpus1 = corpus[[\"text\",\"class_id\"]]"
      ],
      "execution_count": 18,
      "outputs": []
    },
    {
      "cell_type": "code",
      "metadata": {
        "id": "JfX-N5IkbOfH",
        "colab": {
          "base_uri": "https://localhost:8080/",
          "height": 423
        },
        "outputId": "9edf997a-6d6b-4b90-d899-a879ed9ad595"
      },
      "source": [
        "corpus1"
      ],
      "execution_count": 19,
      "outputs": [
        {
          "output_type": "execute_result",
          "data": {
            "text/html": [
              "<div>\n",
              "<style scoped>\n",
              "    .dataframe tbody tr th:only-of-type {\n",
              "        vertical-align: middle;\n",
              "    }\n",
              "\n",
              "    .dataframe tbody tr th {\n",
              "        vertical-align: top;\n",
              "    }\n",
              "\n",
              "    .dataframe thead th {\n",
              "        text-align: right;\n",
              "    }\n",
              "</style>\n",
              "<table border=\"1\" class=\"dataframe\">\n",
              "  <thead>\n",
              "    <tr style=\"text-align: right;\">\n",
              "      <th></th>\n",
              "      <th>text</th>\n",
              "      <th>class_id</th>\n",
              "    </tr>\n",
              "  </thead>\n",
              "  <tbody>\n",
              "    <tr>\n",
              "      <th>0</th>\n",
              "      <td>a question about the third conditional. i was ...</td>\n",
              "      <td>5</td>\n",
              "    </tr>\n",
              "    <tr>\n",
              "      <th>1</th>\n",
              "      <td>the epitome of my life i've recently requested...</td>\n",
              "      <td>0</td>\n",
              "    </tr>\n",
              "    <tr>\n",
              "      <th>2</th>\n",
              "      <td>what are your favourites offbeat destinations ...</td>\n",
              "      <td>5</td>\n",
              "    </tr>\n",
              "    <tr>\n",
              "      <th>3</th>\n",
              "      <td>synesthesia survey (what colour is each month ...</td>\n",
              "      <td>5</td>\n",
              "    </tr>\n",
              "    <tr>\n",
              "      <th>4</th>\n",
              "      <td>science ama series: i’m phil baran, and i’m he...</td>\n",
              "      <td>5</td>\n",
              "    </tr>\n",
              "    <tr>\n",
              "      <th>...</th>\n",
              "      <td>...</td>\n",
              "      <td>...</td>\n",
              "    </tr>\n",
              "    <tr>\n",
              "      <th>23572</th>\n",
              "      <td>Can you have ocd without having depression??? ...</td>\n",
              "      <td>9</td>\n",
              "    </tr>\n",
              "    <tr>\n",
              "      <th>23573</th>\n",
              "      <td>Hi! I'm an OCD therapist, and I'm new to reddi...</td>\n",
              "      <td>9</td>\n",
              "    </tr>\n",
              "    <tr>\n",
              "      <th>23574</th>\n",
              "      <td>Vent: my mom who I still live with tested posi...</td>\n",
              "      <td>9</td>\n",
              "    </tr>\n",
              "    <tr>\n",
              "      <th>23575</th>\n",
              "      <td>Do “intrusive memories” count as intrusive tho...</td>\n",
              "      <td>9</td>\n",
              "    </tr>\n",
              "    <tr>\n",
              "      <th>23576</th>\n",
              "      <td>my partner is getting tired of being asked for...</td>\n",
              "      <td>9</td>\n",
              "    </tr>\n",
              "  </tbody>\n",
              "</table>\n",
              "<p>23577 rows × 2 columns</p>\n",
              "</div>"
            ],
            "text/plain": [
              "                                                    text  class_id\n",
              "0      a question about the third conditional. i was ...         5\n",
              "1      the epitome of my life i've recently requested...         0\n",
              "2      what are your favourites offbeat destinations ...         5\n",
              "3      synesthesia survey (what colour is each month ...         5\n",
              "4      science ama series: i’m phil baran, and i’m he...         5\n",
              "...                                                  ...       ...\n",
              "23572  Can you have ocd without having depression??? ...         9\n",
              "23573  Hi! I'm an OCD therapist, and I'm new to reddi...         9\n",
              "23574  Vent: my mom who I still live with tested posi...         9\n",
              "23575  Do “intrusive memories” count as intrusive tho...         9\n",
              "23576  my partner is getting tired of being asked for...         9\n",
              "\n",
              "[23577 rows x 2 columns]"
            ]
          },
          "metadata": {},
          "execution_count": 19
        }
      ]
    },
    {
      "cell_type": "code",
      "metadata": {
        "id": "yJimNnMhhTNJ",
        "colab": {
          "base_uri": "https://localhost:8080/"
        },
        "outputId": "b600344f-ce96-45ec-83e7-c19010a48c8c"
      },
      "source": [
        "corpus1[\"class_id\"].value_counts()"
      ],
      "execution_count": 20,
      "outputs": [
        {
          "output_type": "execute_result",
          "data": {
            "text/plain": [
              "7    4985\n",
              "0    2961\n",
              "3    2946\n",
              "1    2918\n",
              "2    2903\n",
              "4    2497\n",
              "5    2478\n",
              "9     787\n",
              "8     639\n",
              "6     463\n",
              "Name: class_id, dtype: int64"
            ]
          },
          "metadata": {},
          "execution_count": 20
        }
      ]
    },
    {
      "cell_type": "code",
      "metadata": {
        "id": "l4QJY39xdu7i"
      },
      "source": [
        "from sklearn import model_selection\n",
        "from keras.preprocessing.text import Tokenizer\n",
        "from keras.preprocessing.sequence import pad_sequences"
      ],
      "execution_count": 21,
      "outputs": []
    },
    {
      "cell_type": "code",
      "metadata": {
        "id": "9vCKcD3BSbiX"
      },
      "source": [
        "x_train, x_test, y_train, y_test = model_selection.train_test_split(corpus['text'], corpus['class_id'], test_size=0.2, shuffle=True)"
      ],
      "execution_count": 22,
      "outputs": []
    },
    {
      "cell_type": "code",
      "metadata": {
        "id": "0fH84r75SbxV"
      },
      "source": [
        "embed_size = 300 # how big is each word vector\n",
        "max_features = 120000 # how many unique words to use (i.e num rows in embedding vector)\n",
        "maxlen = 750 # max number of words in a question to use\n",
        "batch_size = 512 # how many samples to process at once\n",
        "n_epochs = 5 # how many times to iterate over all samples\n",
        "n_splits = 5 # Number of K-fold Splits\n",
        "SEED = 10\n",
        "debug = 0"
      ],
      "execution_count": 23,
      "outputs": []
    },
    {
      "cell_type": "code",
      "metadata": {
        "id": "B8i6JkHgfhEL"
      },
      "source": [
        "## Tokenize the sentences\n",
        "tokenizer = Tokenizer(num_words=max_features)\n",
        "tokenizer.fit_on_texts(list(x_train))\n",
        "x_train = tokenizer.texts_to_sequences(x_train)\n",
        "x_test = tokenizer.texts_to_sequences(x_test)\n",
        "\n",
        "## Pad the sentences \n",
        "x_train = pad_sequences(x_train, maxlen=maxlen)\n",
        "x_test= pad_sequences(x_test, maxlen=maxlen)"
      ],
      "execution_count": 24,
      "outputs": []
    },
    {
      "cell_type": "code",
      "metadata": {
        "colab": {
          "base_uri": "https://localhost:8080/"
        },
        "id": "GcLpRpSq7V8G",
        "outputId": "f4e66482-fb1c-4999-9c1c-8386155b3395"
      },
      "source": [
        "print(\"X_test: \",x_train, x_train.shape, x_train.shape[1])\n",
        "print(\"X_test: \",x_test)"
      ],
      "execution_count": 25,
      "outputs": [
        {
          "output_type": "stream",
          "name": "stdout",
          "text": [
            "X_test:  [[   0    0    0 ...    5 1331  176]\n",
            " [   0    0    0 ...   19  289  709]\n",
            " [   0    0    0 ...   10  514 2426]\n",
            " ...\n",
            " [   0    0    0 ...    9  404  503]\n",
            " [   0    0    0 ...   52  110    2]\n",
            " [   0    0    0 ...  198   47  341]] (18861, 750) 750\n",
            "X_test:  [[   0    0    0 ...   23 4420 1344]\n",
            " [   0    0    0 ...    5 4412 1245]\n",
            " [   0    0    0 ... 1301  121  385]\n",
            " ...\n",
            " [   0    0    0 ...  233  888  266]\n",
            " [   0    0    0 ... 2270    3  475]\n",
            " [   0    0    0 ... 3499    6  690]]\n"
          ]
        }
      ]
    },
    {
      "cell_type": "code",
      "metadata": {
        "colab": {
          "base_uri": "https://localhost:8080/"
        },
        "id": "7MWAWS_8jA_L",
        "outputId": "9dfdc8e0-79ee-4392-da67-8647d9697edd"
      },
      "source": [
        "!wget http://nlp.stanford.edu/data/glove.6B.zip\n",
        "!unzip glove.6B.zip\n",
        "!ls -lat"
      ],
      "execution_count": 26,
      "outputs": [
        {
          "output_type": "stream",
          "name": "stdout",
          "text": [
            "--2021-12-09 01:33:12--  http://nlp.stanford.edu/data/glove.6B.zip\n",
            "Resolving nlp.stanford.edu (nlp.stanford.edu)... 171.64.67.140\n",
            "Connecting to nlp.stanford.edu (nlp.stanford.edu)|171.64.67.140|:80... connected.\n",
            "HTTP request sent, awaiting response... 302 Found\n",
            "Location: https://nlp.stanford.edu/data/glove.6B.zip [following]\n",
            "--2021-12-09 01:33:12--  https://nlp.stanford.edu/data/glove.6B.zip\n",
            "Connecting to nlp.stanford.edu (nlp.stanford.edu)|171.64.67.140|:443... connected.\n",
            "HTTP request sent, awaiting response... 301 Moved Permanently\n",
            "Location: http://downloads.cs.stanford.edu/nlp/data/glove.6B.zip [following]\n",
            "--2021-12-09 01:33:12--  http://downloads.cs.stanford.edu/nlp/data/glove.6B.zip\n",
            "Resolving downloads.cs.stanford.edu (downloads.cs.stanford.edu)... 171.64.64.22\n",
            "Connecting to downloads.cs.stanford.edu (downloads.cs.stanford.edu)|171.64.64.22|:80... connected.\n",
            "HTTP request sent, awaiting response... 200 OK\n",
            "Length: 862182613 (822M) [application/zip]\n",
            "Saving to: ‘glove.6B.zip.2’\n",
            "\n",
            "glove.6B.zip.2      100%[===================>] 822.24M  5.09MB/s    in 2m 42s  \n",
            "\n",
            "2021-12-09 01:35:54 (5.09 MB/s) - ‘glove.6B.zip.2’ saved [862182613/862182613]\n",
            "\n",
            "Archive:  glove.6B.zip\n",
            "replace glove.6B.50d.txt? [y]es, [n]o, [A]ll, [N]one, [r]ename: y\n",
            "  inflating: glove.6B.50d.txt        \n",
            "replace glove.6B.100d.txt? [y]es, [n]o, [A]ll, [N]one, [r]ename: y\n",
            "  inflating: glove.6B.100d.txt       \n",
            "replace glove.6B.200d.txt? [y]es, [n]o, [A]ll, [N]one, [r]ename: y\n",
            "  inflating: glove.6B.200d.txt       \n",
            "replace glove.6B.300d.txt? [y]es, [n]o, [A]ll, [N]one, [r]ename: y\n",
            "  inflating: glove.6B.300d.txt       \n",
            "total 4723112\n",
            "drwxr-xr-x 1 root root       4096 Dec  9 01:40 .\n",
            "drwx------ 6 root root       4096 Dec  9 01:15 drive\n",
            "drwxr-xr-x 1 root root       4096 Dec  9 01:14 ..\n",
            "drwxr-xr-x 1 root root       4096 Dec  3 14:33 sample_data\n",
            "drwxr-xr-x 4 root root       4096 Dec  3 14:33 .config\n",
            "-rw-r--r-- 1 root root  862182613 Oct 25  2015 glove.6B.zip\n",
            "-rw-r--r-- 1 root root  862182613 Oct 25  2015 glove.6B.zip.1\n",
            "-rw-r--r-- 1 root root  862182613 Oct 25  2015 glove.6B.zip.2\n",
            "-rw-rw-r-- 1 root root 1037962819 Aug 27  2014 glove.6B.300d.txt\n",
            "-rw-rw-r-- 1 root root  171350079 Aug  4  2014 glove.6B.50d.txt\n",
            "-rw-rw-r-- 1 root root  693432828 Aug  4  2014 glove.6B.200d.txt\n",
            "-rw-rw-r-- 1 root root  347116733 Aug  4  2014 glove.6B.100d.txt\n"
          ]
        }
      ]
    },
    {
      "cell_type": "code",
      "metadata": {
        "id": "vefiYATffxGa"
      },
      "source": [
        "## FUNCTIONS TAKEN FROM https://www.kaggle.com/gmhost/gru-capsule\n",
        "\n",
        "def load_glove(word_index):\n",
        "    EMBEDDING_FILE = '/content/glove.6B.300d.txt'\n",
        "    def get_coefs(word,*arr): return word, np.asarray(arr, dtype='float32')[:300]\n",
        "    embeddings_index = dict(get_coefs(*o.split(\" \")) for o in open(EMBEDDING_FILE))\n",
        "    \n",
        "    all_embs = np.stack(embeddings_index.values())\n",
        "    emb_mean,emb_std = -0.005838499,0.48782197\n",
        "    embed_size = all_embs.shape[1]\n",
        "\n",
        "    nb_words = min(max_features, len(word_index)+1)\n",
        "    embedding_matrix = np.random.normal(emb_mean, emb_std, (nb_words, embed_size))\n",
        "    for word, i in word_index.items():\n",
        "        if i >= max_features: continue\n",
        "        embedding_vector = embeddings_index.get(word)\n",
        "        if embedding_vector is not None: \n",
        "            embedding_matrix[i] = embedding_vector\n",
        "        else:\n",
        "            embedding_vector = embeddings_index.get(word.capitalize())\n",
        "            if embedding_vector is not None: \n",
        "                embedding_matrix[i] = embedding_vector\n",
        "    return embedding_matrix"
      ],
      "execution_count": 27,
      "outputs": []
    },
    {
      "cell_type": "code",
      "metadata": {
        "colab": {
          "base_uri": "https://localhost:8080/"
        },
        "id": "V-xFcupvgE5r",
        "outputId": "1e77fcf0-710d-4b27-c1f6-c63fca2f92eb"
      },
      "source": [
        "if debug:\n",
        "    embedding_matrix = np.random.randn(120000,300)\n",
        "else:\n",
        "    embedding_matrix = load_glove(tokenizer.word_index)"
      ],
      "execution_count": 28,
      "outputs": [
        {
          "output_type": "stream",
          "name": "stderr",
          "text": [
            "/usr/local/lib/python3.7/dist-packages/IPython/core/interactiveshell.py:2882: FutureWarning: arrays to stack must be passed as a \"sequence\" type such as list or tuple. Support for non-sequence iterables such as generators is deprecated as of NumPy 1.16 and will raise an error in the future.\n",
            "  exec(code_obj, self.user_global_ns, self.user_ns)\n"
          ]
        }
      ]
    },
    {
      "cell_type": "code",
      "metadata": {
        "colab": {
          "base_uri": "https://localhost:8080/"
        },
        "id": "ugK259cpgExE",
        "outputId": "4a0030d8-ddf8-4f8a-a0aa-3d0bd35ea9fe"
      },
      "source": [
        "np.shape(embedding_matrix)"
      ],
      "execution_count": 29,
      "outputs": [
        {
          "output_type": "execute_result",
          "data": {
            "text/plain": [
              "(54822, 300)"
            ]
          },
          "metadata": {},
          "execution_count": 29
        }
      ]
    },
    {
      "cell_type": "markdown",
      "source": [
        "BiLSTM"
      ],
      "metadata": {
        "id": "TEUeGvkz0Ri4"
      }
    },
    {
      "cell_type": "code",
      "metadata": {
        "id": "5x1dTP-0zERM"
      },
      "source": [
        "import torch"
      ],
      "execution_count": 30,
      "outputs": []
    },
    {
      "cell_type": "code",
      "metadata": {
        "id": "u0c8gvw8rfRs"
      },
      "source": [
        "class BiLSTM(nn.Module):\n",
        "    \n",
        "    def __init__(self):\n",
        "        super(BiLSTM, self).__init__()\n",
        "        self.hidden_size = 64\n",
        "        drp = 0.3\n",
        "        n_classes = 10\n",
        "        self.embedding = nn.Embedding(max_features, embed_size)\n",
        "        self.embedding.weight = nn.Parameter(torch.tensor(embedding_matrix, dtype=torch.float32))\n",
        "        self.embedding.weight.requires_grad = False\n",
        "        self.lstm = nn.LSTM(embed_size, self.hidden_size, bidirectional=True, batch_first=True)\n",
        "        self.linear = nn.Linear(self.hidden_size*4 , 64)\n",
        "        self.relu = nn.ReLU()\n",
        "        self.dropout = nn.Dropout(drp)\n",
        "        self.out = nn.Linear(64, n_classes)\n",
        "\n",
        "\n",
        "    def forward(self, x):\n",
        "        #rint(x.size())\n",
        "        h_embedding = self.embedding(x)\n",
        "        #_embedding = torch.squeeze(torch.unsqueeze(h_embedding, 0))\n",
        "        h_lstm, _ = self.lstm(h_embedding)\n",
        "        avg_pool = torch.mean(h_lstm, 1)\n",
        "        max_pool, _ = torch.max(h_lstm, 1)\n",
        "        conc = torch.cat(( avg_pool, max_pool), 1)\n",
        "        conc = self.relu(self.linear(conc))\n",
        "        conc = self.dropout(conc)\n",
        "        out = self.out(conc)\n",
        "        return out"
      ],
      "execution_count": 31,
      "outputs": []
    },
    {
      "cell_type": "code",
      "metadata": {
        "id": "xFDk0Wv3t989",
        "colab": {
          "base_uri": "https://localhost:8080/"
        },
        "outputId": "ddaf5218-d511-4c46-c33e-67361014c6a0"
      },
      "source": [
        "n_epochs = 20\n",
        "model = BiLSTM()\n",
        "loss_fn = nn.CrossEntropyLoss(reduction='sum')\n",
        "optimizer = torch.optim.Adam(filter(lambda p: p.requires_grad, model.parameters()), lr=0.001)\n",
        "model.cuda()\n",
        "\n",
        "# Load train and test in CUDA Memory\n",
        "x_train2 = torch.tensor(x_train, dtype=torch.long).cuda()\n",
        "y_train2 = torch.tensor(y_train.values, dtype=torch.long).cuda()\n",
        "x_cv = torch.tensor(x_test, dtype=torch.long).cuda()\n",
        "y_cv = torch.tensor(y_test, dtype=torch.long).cuda()\n",
        "\n",
        "# Create Torch datasets\n",
        "train = torch.utils.data.TensorDataset(x_train2, y_train2)\n",
        "valid = torch.utils.data.TensorDataset(x_cv, y_cv)\n",
        "\n",
        "# Create Data Loaders\n",
        "train_loader = torch.utils.data.DataLoader(train, batch_size=batch_size, shuffle=True)\n",
        "valid_loader = torch.utils.data.DataLoader(valid, batch_size=batch_size, shuffle=False)\n",
        "\n",
        "train_loss = []\n",
        "valid_loss = []\n",
        "\n",
        "for epoch in range(n_epochs):\n",
        "    start_time = time.time()\n",
        "    # Set model to train configuration\n",
        "    model.train()\n",
        "    avg_loss = 0.  \n",
        "    for i, (x_batch, y_batch) in enumerate(train_loader):\n",
        "        # Predict/Forward Pass\n",
        "        y_pred = model(x_batch)\n",
        "        # Compute loss\n",
        "        loss = loss_fn(y_pred, y_batch)\n",
        "        optimizer.zero_grad()\n",
        "        loss.backward()\n",
        "        optimizer.step()\n",
        "        avg_loss += loss.item() / len(train_loader)\n",
        "    \n",
        "    # Set model to validation configuration -Doesn't get trained here\n",
        "    model.eval()        \n",
        "    avg_val_loss = 0.\n",
        "    val_preds = np.zeros((len(x_cv),10))\n",
        "    \n",
        "    for i, (x_batch, y_batch) in enumerate(valid_loader):\n",
        "        y_pred = model(x_batch).detach()\n",
        "        avg_val_loss += loss_fn(y_pred, y_batch).item() / len(valid_loader)\n",
        "        # keep/store predictions\n",
        "        val_preds[i * batch_size:(i+1) * batch_size] =F.softmax(y_pred).cpu().numpy()\n",
        "    \n",
        "    # Check Accuracy\n",
        "    val_accuracy = sum(val_preds.argmax(axis=1)==y_test)/len(y_test)\n",
        "    train_loss.append(avg_loss)\n",
        "    valid_loss.append(avg_val_loss)\n",
        "    elapsed_time = time.time() - start_time \n",
        "    print('Epoch {}/{} \\t loss={:.4f} \\t val_loss={:.4f}  \\t val_acc={:.4f}  \\t time={:.2f}s'.format(\n",
        "                epoch + 1, n_epochs, avg_loss, avg_val_loss, val_accuracy, elapsed_time))"
      ],
      "execution_count": 32,
      "outputs": [
        {
          "output_type": "stream",
          "name": "stderr",
          "text": [
            "/usr/local/lib/python3.7/dist-packages/ipykernel_launcher.py:48: UserWarning: Implicit dimension choice for softmax has been deprecated. Change the call to include dim=X as an argument.\n"
          ]
        },
        {
          "output_type": "stream",
          "name": "stdout",
          "text": [
            "Epoch 1/20 \t loss=1092.9823 \t val_loss=971.9786  \t val_acc=0.2065  \t time=15.69s\n"
          ]
        },
        {
          "output_type": "stream",
          "name": "stderr",
          "text": [
            "/usr/local/lib/python3.7/dist-packages/ipykernel_launcher.py:48: UserWarning: Implicit dimension choice for softmax has been deprecated. Change the call to include dim=X as an argument.\n"
          ]
        },
        {
          "output_type": "stream",
          "name": "stdout",
          "text": [
            "Epoch 2/20 \t loss=953.2772 \t val_loss=745.0120  \t val_acc=0.4623  \t time=15.57s\n"
          ]
        },
        {
          "output_type": "stream",
          "name": "stderr",
          "text": [
            "/usr/local/lib/python3.7/dist-packages/ipykernel_launcher.py:48: UserWarning: Implicit dimension choice for softmax has been deprecated. Change the call to include dim=X as an argument.\n"
          ]
        },
        {
          "output_type": "stream",
          "name": "stdout",
          "text": [
            "Epoch 3/20 \t loss=742.6793 \t val_loss=616.8547  \t val_acc=0.6291  \t time=15.68s\n"
          ]
        },
        {
          "output_type": "stream",
          "name": "stderr",
          "text": [
            "/usr/local/lib/python3.7/dist-packages/ipykernel_launcher.py:48: UserWarning: Implicit dimension choice for softmax has been deprecated. Change the call to include dim=X as an argument.\n"
          ]
        },
        {
          "output_type": "stream",
          "name": "stdout",
          "text": [
            "Epoch 4/20 \t loss=637.5996 \t val_loss=524.8153  \t val_acc=0.6813  \t time=15.79s\n"
          ]
        },
        {
          "output_type": "stream",
          "name": "stderr",
          "text": [
            "/usr/local/lib/python3.7/dist-packages/ipykernel_launcher.py:48: UserWarning: Implicit dimension choice for softmax has been deprecated. Change the call to include dim=X as an argument.\n"
          ]
        },
        {
          "output_type": "stream",
          "name": "stdout",
          "text": [
            "Epoch 5/20 \t loss=563.7041 \t val_loss=472.8724  \t val_acc=0.7072  \t time=15.88s\n"
          ]
        },
        {
          "output_type": "stream",
          "name": "stderr",
          "text": [
            "/usr/local/lib/python3.7/dist-packages/ipykernel_launcher.py:48: UserWarning: Implicit dimension choice for softmax has been deprecated. Change the call to include dim=X as an argument.\n"
          ]
        },
        {
          "output_type": "stream",
          "name": "stdout",
          "text": [
            "Epoch 6/20 \t loss=496.6800 \t val_loss=410.1763  \t val_acc=0.7432  \t time=15.98s\n"
          ]
        },
        {
          "output_type": "stream",
          "name": "stderr",
          "text": [
            "/usr/local/lib/python3.7/dist-packages/ipykernel_launcher.py:48: UserWarning: Implicit dimension choice for softmax has been deprecated. Change the call to include dim=X as an argument.\n"
          ]
        },
        {
          "output_type": "stream",
          "name": "stdout",
          "text": [
            "Epoch 7/20 \t loss=438.1953 \t val_loss=375.3319  \t val_acc=0.7581  \t time=16.23s\n"
          ]
        },
        {
          "output_type": "stream",
          "name": "stderr",
          "text": [
            "/usr/local/lib/python3.7/dist-packages/ipykernel_launcher.py:48: UserWarning: Implicit dimension choice for softmax has been deprecated. Change the call to include dim=X as an argument.\n"
          ]
        },
        {
          "output_type": "stream",
          "name": "stdout",
          "text": [
            "Epoch 8/20 \t loss=395.8816 \t val_loss=347.7927  \t val_acc=0.7727  \t time=16.04s\n"
          ]
        },
        {
          "output_type": "stream",
          "name": "stderr",
          "text": [
            "/usr/local/lib/python3.7/dist-packages/ipykernel_launcher.py:48: UserWarning: Implicit dimension choice for softmax has been deprecated. Change the call to include dim=X as an argument.\n"
          ]
        },
        {
          "output_type": "stream",
          "name": "stdout",
          "text": [
            "Epoch 9/20 \t loss=358.5276 \t val_loss=321.4401  \t val_acc=0.7922  \t time=16.02s\n"
          ]
        },
        {
          "output_type": "stream",
          "name": "stderr",
          "text": [
            "/usr/local/lib/python3.7/dist-packages/ipykernel_launcher.py:48: UserWarning: Implicit dimension choice for softmax has been deprecated. Change the call to include dim=X as an argument.\n"
          ]
        },
        {
          "output_type": "stream",
          "name": "stdout",
          "text": [
            "Epoch 10/20 \t loss=330.2376 \t val_loss=307.0242  \t val_acc=0.7979  \t time=16.07s\n"
          ]
        },
        {
          "output_type": "stream",
          "name": "stderr",
          "text": [
            "/usr/local/lib/python3.7/dist-packages/ipykernel_launcher.py:48: UserWarning: Implicit dimension choice for softmax has been deprecated. Change the call to include dim=X as an argument.\n"
          ]
        },
        {
          "output_type": "stream",
          "name": "stdout",
          "text": [
            "Epoch 11/20 \t loss=311.2890 \t val_loss=301.8930  \t val_acc=0.8043  \t time=16.05s\n"
          ]
        },
        {
          "output_type": "stream",
          "name": "stderr",
          "text": [
            "/usr/local/lib/python3.7/dist-packages/ipykernel_launcher.py:48: UserWarning: Implicit dimension choice for softmax has been deprecated. Change the call to include dim=X as an argument.\n"
          ]
        },
        {
          "output_type": "stream",
          "name": "stdout",
          "text": [
            "Epoch 12/20 \t loss=289.5722 \t val_loss=292.0906  \t val_acc=0.8087  \t time=15.98s\n"
          ]
        },
        {
          "output_type": "stream",
          "name": "stderr",
          "text": [
            "/usr/local/lib/python3.7/dist-packages/ipykernel_launcher.py:48: UserWarning: Implicit dimension choice for softmax has been deprecated. Change the call to include dim=X as an argument.\n"
          ]
        },
        {
          "output_type": "stream",
          "name": "stdout",
          "text": [
            "Epoch 13/20 \t loss=269.7916 \t val_loss=289.0330  \t val_acc=0.8130  \t time=16.03s\n"
          ]
        },
        {
          "output_type": "stream",
          "name": "stderr",
          "text": [
            "/usr/local/lib/python3.7/dist-packages/ipykernel_launcher.py:48: UserWarning: Implicit dimension choice for softmax has been deprecated. Change the call to include dim=X as an argument.\n"
          ]
        },
        {
          "output_type": "stream",
          "name": "stdout",
          "text": [
            "Epoch 14/20 \t loss=255.1845 \t val_loss=285.3396  \t val_acc=0.8121  \t time=15.98s\n"
          ]
        },
        {
          "output_type": "stream",
          "name": "stderr",
          "text": [
            "/usr/local/lib/python3.7/dist-packages/ipykernel_launcher.py:48: UserWarning: Implicit dimension choice for softmax has been deprecated. Change the call to include dim=X as an argument.\n"
          ]
        },
        {
          "output_type": "stream",
          "name": "stdout",
          "text": [
            "Epoch 15/20 \t loss=237.8993 \t val_loss=282.9696  \t val_acc=0.8196  \t time=15.96s\n"
          ]
        },
        {
          "output_type": "stream",
          "name": "stderr",
          "text": [
            "/usr/local/lib/python3.7/dist-packages/ipykernel_launcher.py:48: UserWarning: Implicit dimension choice for softmax has been deprecated. Change the call to include dim=X as an argument.\n"
          ]
        },
        {
          "output_type": "stream",
          "name": "stdout",
          "text": [
            "Epoch 16/20 \t loss=225.8362 \t val_loss=282.4656  \t val_acc=0.8179  \t time=15.97s\n"
          ]
        },
        {
          "output_type": "stream",
          "name": "stderr",
          "text": [
            "/usr/local/lib/python3.7/dist-packages/ipykernel_launcher.py:48: UserWarning: Implicit dimension choice for softmax has been deprecated. Change the call to include dim=X as an argument.\n"
          ]
        },
        {
          "output_type": "stream",
          "name": "stdout",
          "text": [
            "Epoch 17/20 \t loss=214.4981 \t val_loss=287.6704  \t val_acc=0.8202  \t time=16.05s\n"
          ]
        },
        {
          "output_type": "stream",
          "name": "stderr",
          "text": [
            "/usr/local/lib/python3.7/dist-packages/ipykernel_launcher.py:48: UserWarning: Implicit dimension choice for softmax has been deprecated. Change the call to include dim=X as an argument.\n"
          ]
        },
        {
          "output_type": "stream",
          "name": "stdout",
          "text": [
            "Epoch 18/20 \t loss=203.4776 \t val_loss=285.6355  \t val_acc=0.8204  \t time=15.96s\n"
          ]
        },
        {
          "output_type": "stream",
          "name": "stderr",
          "text": [
            "/usr/local/lib/python3.7/dist-packages/ipykernel_launcher.py:48: UserWarning: Implicit dimension choice for softmax has been deprecated. Change the call to include dim=X as an argument.\n"
          ]
        },
        {
          "output_type": "stream",
          "name": "stdout",
          "text": [
            "Epoch 19/20 \t loss=191.2727 \t val_loss=291.1041  \t val_acc=0.8170  \t time=15.96s\n"
          ]
        },
        {
          "output_type": "stream",
          "name": "stderr",
          "text": [
            "/usr/local/lib/python3.7/dist-packages/ipykernel_launcher.py:48: UserWarning: Implicit dimension choice for softmax has been deprecated. Change the call to include dim=X as an argument.\n"
          ]
        },
        {
          "output_type": "stream",
          "name": "stdout",
          "text": [
            "Epoch 20/20 \t loss=179.6026 \t val_loss=286.9780  \t val_acc=0.8179  \t time=15.98s\n"
          ]
        }
      ]
    },
    {
      "cell_type": "code",
      "metadata": {
        "id": "pPMEpP7_ydRe"
      },
      "source": [
        "#torch.save(model,'bilstm_model.csv')"
      ],
      "execution_count": 33,
      "outputs": []
    }
  ]
}